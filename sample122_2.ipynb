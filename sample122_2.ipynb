{
 "cells": [
  {
   "cell_type": "code",
   "execution_count": 5,
   "id": "ab3039ef-11dd-4816-bcfe-44fb5674d4a1",
   "metadata": {},
   "outputs": [
    {
     "name": "stdout",
     "output_type": "stream",
     "text": [
      "{'name': 'Someone', 'age': 30, 'language': 'Japanese'}\n",
      "Someone\n"
     ]
    }
   ],
   "source": [
    "#sample122_2.jpynb\n",
    "import json\n",
    "path = r\"F:\\sample122_1.json\"\n",
    "with open(path,encoding=\"utf-8\") as fp:\n",
    "    json_data = fp.read()\n",
    "python_data = json.loads(json_data)\n",
    "print(python_data)\n",
    "print(python_data['name'])\n"
   ]
  }
 ],
 "metadata": {
  "kernelspec": {
   "display_name": "Python 3 (ipykernel)",
   "language": "python",
   "name": "python3"
  },
  "language_info": {
   "codemirror_mode": {
    "name": "ipython",
    "version": 3
   },
   "file_extension": ".py",
   "mimetype": "text/x-python",
   "name": "python",
   "nbconvert_exporter": "python",
   "pygments_lexer": "ipython3",
   "version": "3.11.4"
  },
  "toc-autonumbering": true
 },
 "nbformat": 4,
 "nbformat_minor": 5
}
