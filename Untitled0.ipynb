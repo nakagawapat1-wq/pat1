{
  "nbformat": 4,
  "nbformat_minor": 0,
  "metadata": {
    "colab": {
      "provenance": [],
      "authorship_tag": "ABX9TyNkDi0yhOhdeawRhFykQ8GT"
    },
    "kernelspec": {
      "name": "python3",
      "display_name": "Python 3"
    },
    "language_info": {
      "name": "python"
    }
  },
  "cells": [
    {
      "cell_type": "code",
      "execution_count": 2,
      "metadata": {
        "id": "jkz1bLfZOFiU",
        "colab": {
          "base_uri": "https://localhost:8080/"
        },
        "outputId": "924761bf-e75c-4643-86bb-38167bb3053e"
      },
      "outputs": [
        {
          "output_type": "stream",
          "name": "stdout",
          "text": [
            "1.86 µs ± 212 ns per loop (mean ± std. dev. of 7 runs, 1000000 loops each)\n"
          ]
        }
      ],
      "source": [
        "%%timeit\n",
        "total = 0\n",
        "for i in range(100):\n",
        "    total += i"
      ]
    }
  ]
}